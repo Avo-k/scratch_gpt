{
 "cells": [
  {
   "cell_type": "code",
   "execution_count": 1,
   "metadata": {},
   "outputs": [
    {
     "name": "stdout",
     "output_type": "stream",
     "text": [
      "{'\\\\x00': 0, '\\\\x01': 1, '\\\\x02': 2, '\\\\x03': 3, '\\\\x04': 4, '\\\\x05': 5, '\\\\x06': 6, '\\\\x07': 7, '\\\\x08': 8, '\\\\t': 9, '\\\\n': 10, '\\\\x0b': 11, '\\\\x0c': 12, '\\\\r': 13, '\\\\x0e': 14, '\\\\x0f': 15, '\\\\x10': 16, '\\\\x11': 17, '\\\\x12': 18, '\\\\x13': 19, '\\\\x14': 20, '\\\\x15': 21, '\\\\x16': 22, '\\\\x17': 23, '\\\\x18': 24, '\\\\x19': 25, '\\\\x1a': 26, '\\\\x1b': 27, '\\\\x1c': 28, '\\\\x1d': 29, '\\\\x1e': 30, '\\\\x1f': 31, ' ': 32, '!': 33, '\"': 34, '#': 35, '$': 36, '%': 37, '&': 38, '\"\"': 39, '(': 40, ')': 41, '*': 42, '+': 43, ',': 44, '-': 45, '.': 46, '/': 47, '0': 48, '1': 49, '2': 50, '3': 51, '4': 52, '5': 53, '6': 54, '7': 55, '8': 56, '9': 57, ':': 58, ';': 59, '<': 60, '=': 61, '>': 62, '?': 63, '@': 64, 'A': 65, 'B': 66, 'C': 67, 'D': 68, 'E': 69, 'F': 70, 'G': 71, 'H': 72, 'I': 73, 'J': 74, 'K': 75, 'L': 76, 'M': 77, 'N': 78, 'O': 79, 'P': 80, 'Q': 81, 'R': 82, 'S': 83, 'T': 84, 'U': 85, 'V': 86, 'W': 87, 'X': 88, 'Y': 89, 'Z': 90, '[': 91, '\\\\\\\\': 92, ']': 93, '^': 94, '_': 95, '`': 96, 'a': 97, 'b': 98, 'c': 99, 'd': 100, 'e': 101, 'f': 102, 'g': 103, 'h': 104, 'i': 105, 'j': 106, 'k': 107, 'l': 108, 'm': 109, 'n': 110, 'o': 111, 'p': 112, 'q': 113, 'r': 114, 's': 115, 't': 116, 'u': 117, 'v': 118, 'w': 119, 'x': 120, 'y': 121, 'z': 122, '{': 123, '|': 124, '}': 125, '~': 126, '\\\\x7f': 127, '�': 255, 'th': 256, ' th': 257, 'ou': 258, ' a': 259, ' h': 260, ' s': 261, ' the': 262, ' w': 263, 'in': 264, 'er': 265, 'en': 266, 'us': 267, ' m': 268, 'or': 269, ':\\\\n': 270, '\\\\n\\\\n': 271, ' t': 272, ' b': 273, 'an': 274, 'on': 275, ' c': 276, 'at': 277, 'es': 278, 'you': 279, ' i': 280, 'ar': 281, 'll': 282, ' you': 283, ' f': 284, '.\\\\n\\\\n': 285, ' p': 286, 'no': 287, 're': 288, ',\\\\n': 289, 'ius': 290, ' d': 291, ' o': 292, 'is': 293, ' to': 294, 'om': 295, 'le': 296, ' an': 297, 've': 298, ' g': 299, 'it': 300, ' no': 301, 'ir': 302, 'ic': 303, ' be': 304, ' he': 305, ' and': 306, ' of': 307, 'ol': 308, ' l': 309, 'ed': 310, ' ha': 311, 'ut': 312, 'ing': 313, 'st': 314, 'se': 315, ' in': 316, ' wh': 317, ' wi': 318, 'ay': 319, 'im': 320, 'ld': 321, 'ow': 322, 'our': 323, 'ere': 324, 'ce': 325, ' your': 326, ' sh': 327, ' for': 328, ' r': 329, ' not': 330, 'and': 331, ' that': 332, 'ome': 333, 'ke': 334, 'wh': 335, 'as': 336, '\"s\"': 337, ' him': 338, ' we': 339, 'all': 340, 'inius': 341, 'the': 342, 'men': 343, ' have': 344, ' it': 345, 'od': 346, 'gh': 347, ' st': 348, 'iol': 349, ' is': 350, ' with': 351, ' me': 352, ' v': 353, ' my': 354, 'oriol': 355, '\"d\"': 356, ' his': 357, ' pr': 358, 'al': 359, 'id': 360, ' n': 361, 'ch': 362, 'ould': 363, 'ther': 364, 'ea': 365, 'nius': 366, 'enius': 367, 'oriolan': 368, 'oriolanus': 369, 'un': 370, '?\\\\n\\\\n': 371, 'ly': 372, ' on': 373, ' do': 374, 'iti': 375, 'menenius': 376, ' e': 377, ' re': 378, 'ore': 379, ' as': 380, ' them': 381, 'ent': 382, 'ad': 383, 'coriolanus': 384, 'ri': 385, 'arc': 386, ' go': 387, 'et': 388, 'we': 389, 'to': 390, 'arcius': 391, 'art': 392, 'est': 393, ' are': 394, ' their': 395, 'op': 396, 'ain': 397, 'ur': 398, 'zen': 399, ' our': 400, 'um': 401, 'ion': 402, ';\\\\n': 403, 'itizen': 404, 'oun': 405, ' they': 406, ' but': 407, 'sic': 408, 'up': 409, 'ess': 410, 'br': 411, ' us': 412, 'ght': 413, 'ver': 414, ' sp': 415, 'sicinius': 416, 'ia': 417, 'irst': 418, ' con': 419, '\" \"': 420, ' so': 421, 'utus': 422, ' wor': 423, 'end': 424, ' will': 425, 'ul': 426, 'he': 427, 'ter': 428, ' shall': 429, 'il': 430, ' all': 431, '.\\\\n': 432, 'ake': 433, 'brutus': 434, 'am': 435, ' k': 436, '!\\\\n\\\\n': 437, 'ich': 438, ' this': 439, ' citizen': 440, ' le': 441, ' what': 442, ' li': 443, 'ust': 444, 'that': 445, 'ee': 446, 'one': 447, ' com': 448, 'ble': 449, '--': 450, ' pe': 451, 'first': 452, ' peop': 453, ' people': 454, 'ct': 455, 'ate': 456, 'ck': 457, 'now': 458, '\"t\"': 459, ' lo': 460, 'ra': 461, 'com': 462, 'wi': 463, 'be': 464, ' at': 465, ' would': 466, ' y': 467, 'ive': 468, ' mo': 469, 'out': 470, 'ves': 471, ' than': 472, ' de': 473, ' ne': 474, 'ers': 475, 'ard': 476, ' ch': 477, ' good': 478, 'ge': 479, ' su': 480, ' up': 481, ' by': 482, ' thou': 483, 'ue': 484, ' tr': 485, ' man': 486, 'cominius': 487, ' marcius': 488, 'em': 489, ' if': 490, 'sel': 491, 'oic': 492, 'ie': 493, '\"ll\"': 494, ' more': 495, 'ity': 496, ' sen': 497, 'ind': 498, '!\\\\n': 499, 'eak': 500, ' know': 501, 'con': 502, 'ant': 503, 'for': 504, ' ca': 505, 'gain': 506, ' can': 507, 'ong': 508, 'marcius': 509, 'ound': 510, 'ry': 511, ' was': 512, 'vol': 513, 'ous': 514, ' say': 515, 'of': 516, 'ave': 517, 'ight': 518, ' sir': 519, 'ose': 520, ' dis': 521, 'rom': 522, 'volum': 523, 'volumn': 524, 'volumnia': 525, ' voic': 526, ' must': 527, ' fa': 528, ' fo': 529, ' had': 530, ' speak': 531, ' well': 532, ' then': 533, 'fore': 534, ' en': 535, 'what': 536, ' were': 537, ' one': 538, 'fe': 539, ' which': 540, 'not': 541, 'with': 542, ' make': 543, ' when': 544, 'lo': 545, 'onour': 546, 'if': 547, ' see': 548, 'sh': 549, ' let': 550, 'are': 551, 'ars': 552, 'li': 553, 'ator': 554, ' br': 555, ' there': 556, 'ower': 557, 'wn': 558, 'come': 559, ' here': 560, ' now': 561, 'ine': 562, 'your': 563, 'la': 564, 'old': 565, 'ence': 566, ' upon': 567, ' rome': 568, ' or': 569, ' cons': 570, 'ish': 571, ' un': 572, ' did': 573, 'ure': 574, ' come': 575, ' off': 576, 'uf': 577, ' should': 578, 'let': 579, ' po': 580, 'ile': 581, 'but': 582, 'bun': 583, 'ven': 584, ' god': 585, 'ough': 586, 'ast': 587, 'own': 588, 'qu': 589, ' power': 590, ' tri': 591, ' voices': 592, 'ink': 593, ' again': 594, ' from': 595, ' senator': 596, ' heart': 597, ' am': 598, ' hear': 599}\n"
     ]
    }
   ],
   "source": [
    "def load_vocab(file_path):\n",
    "    vocab = {}\n",
    "    with open(file_path, \"r\") as file:\n",
    "        for line in file:\n",
    "            line = line.strip()\n",
    "            if line:\n",
    "                try:\n",
    "                    char, index = line.split(\"] \")\n",
    "                    char = char[1:].replace(\"'\", \"\")\n",
    "                    index = int(index)\n",
    "                    vocab[char] = index\n",
    "                except ValueError:\n",
    "                    print(f\"Skipping invalid line: {line}\")\n",
    "    return vocab\n",
    "\n",
    "\n",
    "# Usage\n",
    "vocab_file = \"simpler.vocab\"\n",
    "vocab = load_vocab(vocab_file)\n",
    "print(vocab)"
   ]
  },
  {
   "cell_type": "code",
   "execution_count": 2,
   "metadata": {},
   "outputs": [
    {
     "name": "stderr",
     "output_type": "stream",
     "text": [
      "100%|██████████| 44/44 [00:25<00:00,  1.71it/s]\n"
     ]
    }
   ],
   "source": [
    "from regex_tokenizer import RegexTokenizer\n",
    "\n",
    "tok = RegexTokenizer()\n",
    "\n",
    "with open(\"shake.txt\", \"r\") as f:\n",
    "    shake = f.read()\n",
    "\n",
    "tok.train(shake, 300, verbose=False)"
   ]
  },
  {
   "cell_type": "code",
   "execution_count": 3,
   "metadata": {},
   "outputs": [
    {
     "ename": "KeyboardInterrupt",
     "evalue": "",
     "output_type": "error",
     "traceback": [
      "\u001b[1;31m---------------------------------------------------------------------------\u001b[0m",
      "\u001b[1;31mKeyboardInterrupt\u001b[0m                         Traceback (most recent call last)",
      "Cell \u001b[1;32mIn[3], line 2\u001b[0m\n\u001b[0;32m      1\u001b[0m encoded \u001b[38;5;241m=\u001b[39m tok\u001b[38;5;241m.\u001b[39mencode(shake)\n\u001b[1;32m----> 2\u001b[0m decoded \u001b[38;5;241m=\u001b[39m \u001b[43mtok\u001b[49m\u001b[38;5;241;43m.\u001b[39;49m\u001b[43mdecode\u001b[49m\u001b[43m(\u001b[49m\u001b[43mencoded\u001b[49m\u001b[43m)\u001b[49m\n\u001b[0;32m      4\u001b[0m \u001b[38;5;28;01massert\u001b[39;00m shake \u001b[38;5;241m==\u001b[39m decoded\n",
      "File \u001b[1;32mc:\\Users\\JeanLELONG\\inno\\scratch_gpt\\regex_tokenizer.py:60\u001b[0m, in \u001b[0;36mRegexTokenizer.decode\u001b[1;34m(self, ids)\u001b[0m\n\u001b[0;32m     58\u001b[0m \u001b[38;5;28;01mdef\u001b[39;00m \u001b[38;5;21mdecode\u001b[39m(\u001b[38;5;28mself\u001b[39m, ids):\n\u001b[0;32m     59\u001b[0m     \u001b[38;5;28;01mfor\u001b[39;00m key, pair \u001b[38;5;129;01min\u001b[39;00m \u001b[38;5;28mreversed\u001b[39m(\u001b[38;5;28mlist\u001b[39m(\u001b[38;5;28mself\u001b[39m\u001b[38;5;241m.\u001b[39mmerges\u001b[38;5;241m.\u001b[39mitems())):\n\u001b[1;32m---> 60\u001b[0m         ids \u001b[38;5;241m=\u001b[39m \u001b[38;5;28;43mself\u001b[39;49m\u001b[38;5;241;43m.\u001b[39;49m\u001b[43mreplace_key_with_pair\u001b[49m\u001b[43m(\u001b[49m\u001b[43mids\u001b[49m\u001b[43m,\u001b[49m\u001b[43m \u001b[49m\u001b[43mkey\u001b[49m\u001b[43m,\u001b[49m\u001b[43m \u001b[49m\u001b[43mpair\u001b[49m\u001b[43m)\u001b[49m\n\u001b[0;32m     61\u001b[0m     \u001b[38;5;28;01mreturn\u001b[39;00m \u001b[38;5;28mbytes\u001b[39m(ids)\u001b[38;5;241m.\u001b[39mdecode(\u001b[38;5;124m\"\u001b[39m\u001b[38;5;124mutf-8\u001b[39m\u001b[38;5;124m\"\u001b[39m)\n",
      "File \u001b[1;32mc:\\Users\\JeanLELONG\\inno\\scratch_gpt\\basic_tokenizer.py:69\u001b[0m, in \u001b[0;36mBasicTokenizer.replace_key_with_pair\u001b[1;34m(seq, key, pair)\u001b[0m\n\u001b[0;32m     66\u001b[0m \u001b[38;5;129m@staticmethod\u001b[39m\n\u001b[0;32m     67\u001b[0m \u001b[38;5;28;01mdef\u001b[39;00m \u001b[38;5;21mreplace_key_with_pair\u001b[39m(seq, key, pair):\n\u001b[0;32m     68\u001b[0m     i \u001b[38;5;241m=\u001b[39m \u001b[38;5;241m0\u001b[39m\n\u001b[1;32m---> 69\u001b[0m     \u001b[38;5;28;01mwhile\u001b[39;00m \u001b[43mi\u001b[49m\u001b[43m \u001b[49m\u001b[38;5;241;43m<\u001b[39;49m\u001b[43m \u001b[49m\u001b[38;5;28;43mlen\u001b[39;49m\u001b[43m(\u001b[49m\u001b[43mseq\u001b[49m\u001b[43m)\u001b[49m:\n\u001b[0;32m     70\u001b[0m         \u001b[38;5;28;01mif\u001b[39;00m seq[i] \u001b[38;5;241m==\u001b[39m key:\n\u001b[0;32m     71\u001b[0m             seq[i : i \u001b[38;5;241m+\u001b[39m \u001b[38;5;241m1\u001b[39m] \u001b[38;5;241m=\u001b[39m pair\n",
      "\u001b[1;31mKeyboardInterrupt\u001b[0m: "
     ]
    }
   ],
   "source": [
    "encoded = tok.encode(shake)\n",
    "# decoded = tok.decode(encoded)\n",
    "# assert shake == decoded"
   ]
  },
  {
   "cell_type": "code",
   "execution_count": null,
   "metadata": {},
   "outputs": [
    {
     "data": {
      "text/plain": [
       "[(32, 169892),\n",
       " (101, 94611),\n",
       " (116, 67009),\n",
       " (111, 65798),\n",
       " (97, 55507),\n",
       " (104, 51310),\n",
       " (115, 49696),\n",
       " (114, 48889),\n",
       " (110, 48529),\n",
       " (105, 45537)]"
      ]
     },
     "execution_count": 4,
     "metadata": {},
     "output_type": "execute_result"
    }
   ],
   "source": [
    "from collections import Counter\n",
    "\n",
    "c = Counter(encoded)\n",
    "\n",
    "c.most_common(10)"
   ]
  },
  {
   "cell_type": "code",
   "execution_count": null,
   "metadata": {},
   "outputs": [
    {
     "data": {
      "text/plain": [
       "[(122, 356),\n",
       " (121, 20448),\n",
       " (120, 529),\n",
       " (119, 17585),\n",
       " (118, 7793),\n",
       " (117, 26584),\n",
       " (116, 67009),\n",
       " (115, 49696),\n",
       " (114, 48889),\n",
       " (113, 609),\n",
       " (112, 10808),\n",
       " (111, 65798),\n",
       " (110, 48529),\n",
       " (109, 22243),\n",
       " (108, 33339),\n",
       " (107, 7088),\n",
       " (106, 628),\n",
       " (105, 45537),\n",
       " (104, 51310),\n",
       " (103, 13356),\n",
       " (102, 15770),\n",
       " (101, 94611),\n",
       " (100, 31358),\n",
       " (99, 15623),\n",
       " (98, 11321),\n",
       " (97, 55507),\n",
       " (90, 198),\n",
       " (89, 1718),\n",
       " (88, 112),\n",
       " (87, 3530),\n",
       " (86, 798),\n",
       " (85, 3313),\n",
       " (84, 7015),\n",
       " (83, 4523),\n",
       " (82, 4869),\n",
       " (81, 231),\n",
       " (80, 1641),\n",
       " (79, 5481),\n",
       " (78, 5079),\n",
       " (77, 2840),\n",
       " (76, 3876),\n",
       " (75, 1584),\n",
       " (74, 320),\n",
       " (73, 11832),\n",
       " (72, 3068),\n",
       " (71, 2399),\n",
       " (70, 1797),\n",
       " (69, 6041),\n",
       " (68, 2089),\n",
       " (67, 3820),\n",
       " (66, 2761),\n",
       " (65, 7819),\n",
       " (63, 2462),\n",
       " (59, 3628),\n",
       " (58, 10316),\n",
       " (51, 27),\n",
       " (46, 7885),\n",
       " (45, 1897),\n",
       " (44, 19846),\n",
       " (39, 6187),\n",
       " (38, 3),\n",
       " (36, 1),\n",
       " (33, 2172),\n",
       " (32, 169892),\n",
       " (10, 39999)]"
      ]
     },
     "execution_count": 5,
     "metadata": {},
     "output_type": "execute_result"
    }
   ],
   "source": [
    "[*sorted(dict(c).items())][::-1]"
   ]
  },
  {
   "cell_type": "code",
   "execution_count": null,
   "metadata": {},
   "outputs": [
    {
     "data": {
      "text/plain": [
       "[(36, 1),\n",
       " (38, 3),\n",
       " (51, 27),\n",
       " (88, 112),\n",
       " (90, 198),\n",
       " (81, 231),\n",
       " (74, 320),\n",
       " (122, 356),\n",
       " (120, 529),\n",
       " (113, 609),\n",
       " (106, 628),\n",
       " (86, 798),\n",
       " (75, 1584),\n",
       " (80, 1641),\n",
       " (89, 1718),\n",
       " (70, 1797),\n",
       " (45, 1897),\n",
       " (68, 2089),\n",
       " (33, 2172),\n",
       " (71, 2399),\n",
       " (63, 2462),\n",
       " (66, 2761),\n",
       " (77, 2840),\n",
       " (72, 3068),\n",
       " (85, 3313),\n",
       " (87, 3530),\n",
       " (59, 3628),\n",
       " (67, 3820),\n",
       " (76, 3876),\n",
       " (83, 4523),\n",
       " (82, 4869),\n",
       " (78, 5079),\n",
       " (79, 5481),\n",
       " (69, 6041),\n",
       " (39, 6187),\n",
       " (84, 7015),\n",
       " (107, 7088),\n",
       " (118, 7793),\n",
       " (65, 7819),\n",
       " (46, 7885),\n",
       " (58, 10316),\n",
       " (112, 10808),\n",
       " (98, 11321),\n",
       " (73, 11832),\n",
       " (103, 13356),\n",
       " (99, 15623),\n",
       " (102, 15770),\n",
       " (119, 17585),\n",
       " (44, 19846),\n",
       " (121, 20448),\n",
       " (109, 22243),\n",
       " (117, 26584),\n",
       " (100, 31358),\n",
       " (108, 33339),\n",
       " (10, 39999),\n",
       " (105, 45537),\n",
       " (110, 48529),\n",
       " (114, 48889),\n",
       " (115, 49696),\n",
       " (104, 51310),\n",
       " (97, 55507),\n",
       " (111, 65798),\n",
       " (116, 67009),\n",
       " (101, 94611),\n",
       " (32, 169892)]"
      ]
     },
     "execution_count": 6,
     "metadata": {},
     "output_type": "execute_result"
    }
   ],
   "source": [
    "[*sorted(dict(c).items(), key=lambda x: x[1])]"
   ]
  },
  {
   "cell_type": "code",
   "execution_count": null,
   "metadata": {},
   "outputs": [],
   "source": []
  }
 ],
 "metadata": {
  "kernelspec": {
   "display_name": "base",
   "language": "python",
   "name": "python3"
  },
  "language_info": {
   "codemirror_mode": {
    "name": "ipython",
    "version": 3
   },
   "file_extension": ".py",
   "mimetype": "text/x-python",
   "name": "python",
   "nbconvert_exporter": "python",
   "pygments_lexer": "ipython3",
   "version": "3.11.5"
  }
 },
 "nbformat": 4,
 "nbformat_minor": 2
}
